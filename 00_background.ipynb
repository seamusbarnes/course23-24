{
 "cells": [
  {
   "cell_type": "code",
   "execution_count": null,
   "metadata": {},
   "outputs": [
    {
     "data": {
      "text/plain": [
       "'\\nTo do:\\n- mac shortcuts\\n    option + arrow_key_left -> move left one word\\n    option + arrow_key_right -> move right one word\\n    command + arrow_key_left -> move to start of first word on line\\n    command + arrow_key_right -> move to end of last word on line\\n- vscode shortcuts\\n    when a cell is selected:\\n        control + enter -> execute current cell\\n        shift + enter -> execute current cell and select cell below\\n        option + enter -> execute current cell and inset new cell below\\n    when a cell is not selected:\\n        a -> insert code cell above current cell\\n        b -> insert code cell below current cell\\n- setting up Conda environment\\n- setting up Jupyter notebook\\ntest\\n```# To Do\\n\\n# mac shortcuts\\n'"
      ]
     },
     "execution_count": 10,
     "metadata": {},
     "output_type": "execute_result"
    }
   ],
   "source": [
    "'''\n",
    "- mac shortcuts\n",
    "    option + arrow_key_left -> move left one word\n",
    "    option + arrow_key_right -> move right one word\n",
    "    command + arrow_key_left -> move to start of first word on line\n",
    "    command + arrow_key_right -> move to end of last word on line\n",
    "    fn + backspace -> delete\n",
    "- vscode shortcuts\n",
    "    when a cell is selected:\n",
    "        control + enter -> execute current cell\n",
    "        shift + enter -> execute current cell and select cell below\n",
    "        option + enter -> execute current cell, inset new cell below and select new cell below\n",
    "        control + shift + '-' -> split current cell at the curse\n",
    "    when a cell is not selected:\n",
    "        a -> insert code cell above current cell\n",
    "        b -> insert code cell below current cell\n",
    "        m -> make the cell a markdown cell\n",
    "        y -> make the cell a code cell\n",
    "        d, d -> delete the currently selected cell\n",
    "        z -> undo the last cell operation\n",
    "    general vscode shortcuts:\n",
    "        command + s -> save the current file\n",
    "        command + z -> undo the last action\n",
    "        command + shift + z -> redo the last undone action\n",
    "        command + shift + p -> open the command palette\n",
    "        command  + b -> toggle the sidebar visibility\n",
    "        control + '`' -> toggle the integrated terminal\n",
    "- Conda environment\n",
    "    install conda and set up an environment to work in\n",
    "    terminal commands:\n",
    "        'conda activate [ENV]' -> activate pre established environment\n",
    "        'conda install [PACKAGE]' -> install package to environment from the default channel (maintained by Anaconda)\n",
    "        'conda config --show channels' -> show a list of the configured channels\n",
    "        'conda install -c conda-forge [PACKAGE]' -> install package to envirnment from conda-forge channel (-c flag specified the channel you want to use)\n",
    "- setting up Jupyter notebook\n",
    "- git\n",
    "    \n",
    "'''\n"
   ]
  },
  {
   "cell_type": "code",
   "execution_count": 11,
   "metadata": {},
   "outputs": [],
   "source": [
    "#####\n",
    "###\\\n",
    "##\n",
    "#"
   ]
  },
  {
   "cell_type": "code",
   "execution_count": null,
   "metadata": {},
   "outputs": [],
   "source": [
    "#####\n",
    "###\\\n",
    "##\n",
    "#"
   ]
  },
  {
   "cell_type": "code",
   "execution_count": null,
   "metadata": {},
   "outputs": [],
   "source": [
    "#####\n",
    "###\\\n",
    "##\n",
    "#"
   ]
  },
  {
   "cell_type": "code",
   "execution_count": null,
   "metadata": {},
   "outputs": [],
   "source": []
  },
  {
   "cell_type": "code",
   "execution_count": null,
   "metadata": {},
   "outputs": [],
   "source": [
    "##\n"
   ]
  },
  {
   "cell_type": "code",
   "execution_count": null,
   "metadata": {},
   "outputs": [],
   "source": [
    "###\n"
   ]
  },
  {
   "cell_type": "code",
   "execution_count": null,
   "metadata": {},
   "outputs": [],
   "source": [
    "##\n",
    "#\n"
   ]
  },
  {
   "cell_type": "code",
   "execution_count": null,
   "metadata": {},
   "outputs": [],
   "source": []
  },
  {
   "cell_type": "code",
   "execution_count": null,
   "metadata": {},
   "outputs": [],
   "source": []
  },
  {
   "cell_type": "code",
   "execution_count": 1,
   "metadata": {},
   "outputs": [
    {
     "name": "stdout",
     "output_type": "stream",
     "text": [
      "hello world\n"
     ]
    }
   ],
   "source": [
    "print('hello world')"
   ]
  }
 ],
 "metadata": {
  "kernelspec": {
   "display_name": "Python 3 (ipykernel)",
   "language": "python",
   "name": "python3"
  },
  "language_info": {
   "codemirror_mode": {
    "name": "ipython",
    "version": 3
   },
   "file_extension": ".py",
   "mimetype": "text/x-python",
   "name": "python",
   "nbconvert_exporter": "python",
   "pygments_lexer": "ipython3",
   "version": "3.11.5"
  }
 },
 "nbformat": 4,
 "nbformat_minor": 2
}
