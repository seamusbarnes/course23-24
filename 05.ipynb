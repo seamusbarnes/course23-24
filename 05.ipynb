{
 "cells": [
  {
   "cell_type": "markdown",
   "metadata": {},
   "source": [
    "## notebook prep (imports, download dataset, set printouts etc.)"
   ]
  },
  {
   "cell_type": "code",
   "execution_count": null,
   "metadata": {},
   "outputs": [],
   "source": [
    "import os\n",
    "from pathlib import Path\n",
    "import matplotlib.pyplot as plt\n",
    "import kaggle\n",
    "import zipfile\n",
    "import seaborn as sns\n",
    "import numpy as np\n",
    "from torch import tensor\n",
    "import torch\n",
    "import torch.nn.functional as F\n",
    "import pandas as pd\n",
    "from fastai.data.transforms import RandomSplitter\n",
    "\n",
    "iskaggle = os.environ.get('KAGGLE_KERNEL_RUN_TYPE', '')\n",
    "if iskaggle:\n",
    "    path = Path('../input/titanic')\n",
    "else:\n",
    "    path = Path('titanic')\n",
    "    if not path.exists():\n",
    "        kaggle.api.competition_download_cli(str(path))\n",
    "        zipfile.ZipFile(f'{path}.zip').extractall(path)\n",
    "\n",
    "np.set_printoptions(linewidth=140)\n",
    "torch.set_printoptions(linewidth=140, sci_mode=False, edgeitems=7)\n",
    "pd.set_option('display.width', 140)"
   ]
  },
  {
   "cell_type": "markdown",
   "metadata": {},
   "source": [
    "# pre-process dataset"
   ]
  },
  {
   "cell_type": "code",
   "execution_count": null,
   "metadata": {},
   "outputs": [],
   "source": [
    "# import training data\n",
    "\n",
    "filename = 'train.csv'\n",
    "df = pd.read_csv(path/filename)\n",
    "\n",
    "# pre-process training data\n",
    "def pre_process(df):\n",
    "    df.fillna(df.mode().iloc[0], inplace=True)\n",
    "\n",
    "    cols_original = set(df.columns)\n",
    "    df['LogFare'] = np.log10(df['Fare']+1)\n",
    "    def plot_LogFare():\n",
    "        plt.figure(figsize=(4,2))\n",
    "        df['LogFare'].hist()\n",
    "        plt.title('Log (base 10) fares histogram ')\n",
    "        plt.xlabel('log10(Fare)')\n",
    "        plt.ylabel('# of occurences')\n",
    "        plt.show()\n",
    "    # plot_LogFare()\n",
    "\n",
    "    df = pd.get_dummies(df, columns=['Sex', 'Pclass', 'Embarked'])\n",
    "    cols_added = list(x for x in df.columns if x not in cols_original)\n",
    "    df[cols_added].head()\n",
    "    for col in df.columns:\n",
    "        if df[col].dtype == 'bool':\n",
    "            df[col] = df[col].astype(int)\n",
    "\n",
    "    # create training dependent and independent variable tensors\n",
    "    cols_indep = ['Age', 'SibSp', 'Parch'] + cols_added\n",
    "    indep = tensor(df[cols_indep].values, dtype=torch.float)\n",
    "\n",
    "    # normalize independent variable values to between 0 and 1\n",
    "    # (otherwise features with very high values such as age may have outsized effects)\n",
    "    vals, _ = indep.max(dim=0)\n",
    "    indep = indep/vals\n",
    "\n",
    "    if 'Survived' in df.columns:\n",
    "        dep = tensor(df.Survived)\n",
    "        return dep, indep\n",
    "    \n",
    "    return indep\n",
    "\n",
    "dep, indep = pre_process(df)"
   ]
  },
  {
   "cell_type": "markdown",
   "metadata": {},
   "source": [
    "## split dataset into training and validation subsets"
   ]
  },
  {
   "cell_type": "code",
   "execution_count": null,
   "metadata": {},
   "outputs": [
    {
     "name": "stdout",
     "output_type": "stream",
     "text": [
      "length of training dataset: 1\n",
      "length of validation dataset: 1\n"
     ]
    }
   ],
   "source": [
    "# generate indices for training and validation sets\n",
    "split_train, split_val = RandomSplitter(seed=42)(df)\n",
    "\n",
    "# generate training and validation datasets\n",
    "train_indep = indep[split_train]\n",
    "train_dep = dep[split_train]\n",
    "train_dep = train_dep[:, None].T\n",
    "\n",
    "val_indep = indep[split_val]\n",
    "val_dep = dep[split_val]\n",
    "val_dep = val_dep[:, None].T\n",
    "\n",
    "print(f'length of training dataset: {len(train_dep)}')\n",
    "print(f'length of validation dataset: {len(val_dep)}')"
   ]
  },
  {
   "cell_type": "markdown",
   "metadata": {},
   "source": [
    "## linear model"
   ]
  },
  {
   "cell_type": "code",
   "execution_count": null,
   "metadata": {},
   "outputs": [
    {
     "name": "stdout",
     "output_type": "stream",
     "text": [
      "epoch: 0; loss = 0.5120\n"
     ]
    },
    {
     "data": {
      "image/png": "[encoded data removed]",
      "text/plain": [
       "<Figure size 500x300 with 1 Axes>"
      ]
     },
     "metadata": {},
     "output_type": "display_data"
    }
   ],
   "source": [
    "coeffs = torch.rand(12, 1)-0.5\n",
    "coeffs.requires_grad_()\n",
    "\n",
    "loss_recorded = []\n",
    "epochs = 100\n",
    "ls = 100\n",
    "for i in range(epochs):\n",
    "    predictions = torch.sigmoid((train_indep@coeffs).sum(axis=1))\n",
    "    loss = torch.abs(predictions-train_dep).mean()\n",
    "    loss_recorded.append(float(loss))\n",
    "    if i%100==0: print(f'epoch: {i}; loss = {loss:.4f}')\n",
    "    loss.backward()\n",
    "    with torch.no_grad():\n",
    "        coeffs.sub_(coeffs.grad * ls)\n",
    "        coeffs.grad.zero_()\n",
    "\n",
    "plt.figure(figsize=(5,3))\n",
    "plt.plot(loss_recorded)\n",
    "plt.xlabel('epoch')\n",
    "plt.ylabel('loss')\n",
    "plt.grid()\n",
    "plt.xlim((0,len(loss_recorded)))\n",
    "plt.show()\n"
   ]
  },
  {
   "cell_type": "code",
   "execution_count": null,
   "metadata": {},
   "outputs": [
    {
     "name": "stdout",
     "output_type": "stream",
     "text": [
      "accuracy on the training set: 0.8079\n",
      "accuracy on the validation set: 0.8258\n"
     ]
    }
   ],
   "source": [
    "# calculate the accuracy on the training set\n",
    "predictions = torch.sigmoid((train_indep@coeffs).sum(axis=1))\n",
    "results = train_dep.bool()==(predictions>0.5)\n",
    "print(f'accuracy on the training set: {results.float().mean():.4f}')\n",
    "\n",
    "# calculate the accuracy on the validation set\n",
    "predictions = torch.sigmoid((val_indep@coeffs).sum(axis=1))\n",
    "results = val_dep.bool()==(predictions>0.5)\n",
    "print(f'accuracy on the validation set: {results.float().mean():.4f}')"
   ]
  },
  {
   "cell_type": "code",
   "execution_count": null,
   "metadata": {},
   "outputs": [],
   "source": [
    "test_df = pd.read_csv(path/'test.csv')\n",
    "test_indep = pre_process(test_df)\n",
    "test_indep.shape\n",
    "\n",
    "predictions = torch.sigmoid((test_indep@coeffs).sum(axis=1))\n",
    "test_df['Survived'] = (predictions>0.5).int()"
   ]
  },
  {
   "cell_type": "code",
   "execution_count": null,
   "metadata": {},
   "outputs": [],
   "source": [
    "submission_df = test_df[['PassengerId','Survived']]\n",
    "submission_df.head(n=20)\n",
    "submission_df.to_csv('sub.csv', index=False)"
   ]
  },
  {
   "cell_type": "markdown",
   "metadata": {},
   "source": [
    "## neural network"
   ]
  },
  {
   "cell_type": "code",
   "execution_count": null,
   "metadata": {},
   "outputs": [
    {
     "name": "stdout",
     "output_type": "stream",
     "text": [
      "epoch: 0; loss: 0.5436\n",
      "epoch: 10; loss: 0.1935\n",
      "epoch: 20; loss: 0.1928\n",
      "epoch: 29; loss: 0.1926\n"
     ]
    },
    {
     "data": {
      "text/plain": [
       "tensor(0.8258)"
      ]
     },
     "execution_count": 69,
     "metadata": {},
     "output_type": "execute_result"
    }
   ],
   "source": [
    "def train_model(dep, indep, epochs=30, lr=20):\n",
    "    torch.manual_seed(442)\n",
    "    n_coeffs = indep.shape[1]\n",
    "    \n",
    "    def init_coeffs(n_coeffs, n_hidden=20):\n",
    "        layer1 = (torch.rand(n_coeffs, n_hidden)-0.5)/n_hidden\n",
    "        layer2 = torch.rand(n_hidden, 1)-0.3\n",
    "        const = torch.rand(1)[0]\n",
    "        coeffs = (layer1.requires_grad_(),layer2.requires_grad_(),const.requires_grad_())\n",
    "        return coeffs\n",
    "    coeffs = init_coeffs(n_coeffs)\n",
    "\n",
    "    for i in range(epochs):\n",
    "\n",
    "        def one_epoch(dep, indep, coeffs,lr):\n",
    "\n",
    "            def calc_loss(dep, indep, coeffs):\n",
    "                def calc_preds(indep, coeffs):\n",
    "                    l1,l2,const = coeffs\n",
    "                    res = F.relu(indep@l1)\n",
    "                    res = res@l2 + const\n",
    "                    return torch.sigmoid(res)\n",
    "                return torch.abs(calc_preds(indep, coeffs)-dep).mean()\n",
    "            loss = calc_loss(dep, indep, coeffs)\n",
    "\n",
    "            loss.backward()\n",
    "            with torch.no_grad():\n",
    "                # update coefficients function\n",
    "                for layer in coeffs:\n",
    "                    layer.sub_(layer.grad * lr)\n",
    "                    layer.grad.zero_()\n",
    "            if i % 10 == 0 or i == epochs-1:\n",
    "                print(f'epoch: {i}; loss: {loss:.4f}')\n",
    "        one_epoch(dep, indep, coeffs, lr=lr)\n",
    "    \n",
    "    return coeffs\n",
    "\n",
    "train_dep = train_dep.T\n",
    "val_dep = val_dep.T\n",
    "coeffs = train_model(train_dep, train_indep)\n",
    "\n",
    "\n",
    "def calc_preds(indep, coeffs):\n",
    "    l1,l2,const = coeffs\n",
    "    res = F.relu(indep@l1)\n",
    "    res = res@l2 + const\n",
    "    return torch.sigmoid(res)\n",
    "\n",
    "def acc(coeffs):\n",
    "    return (val_dep.bool()==(calc_preds(val_indep, coeffs)>0.5)).float().mean()\n",
    "acc(coeffs)\n",
    "\n",
    "# l1, l2, const = coeffs"
   ]
  },
  {
   "cell_type": "markdown",
   "metadata": {},
   "source": [
    "## deep learning"
   ]
  },
  {
   "cell_type": "code",
   "execution_count": null,
   "metadata": {},
   "outputs": [],
   "source": []
  }
 ],
 "metadata": {
  "kernelspec": {
   "display_name": "Python 3 (ipykernel)",
   "language": "python",
   "name": "python3"
  }
 },
 "nbformat": 4,
 "nbformat_minor": 2
}
